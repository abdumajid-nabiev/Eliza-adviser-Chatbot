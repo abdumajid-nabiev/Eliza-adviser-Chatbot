{
 "cells": [
  {
   "cell_type": "code",
   "execution_count": 1,
   "metadata": {},
   "outputs": [],
   "source": [
    "import re"
   ]
  },
  {
   "cell_type": "code",
   "execution_count": 4,
   "metadata": {},
   "outputs": [
    {
     "ename": "NameError",
     "evalue": "name 'self' is not defined",
     "output_type": "error",
     "traceback": [
      "\u001b[0;31m---------------------------------------------------------------------------\u001b[0m",
      "\u001b[0;31mNameError\u001b[0m                                 Traceback (most recent call last)",
      "Cell \u001b[0;32mIn[4], line 1\u001b[0m\n\u001b[0;32m----> 1\u001b[0m \u001b[38;5;28;43mself\u001b[39;49m\u001b[38;5;241m.\u001b[39m_pairs \u001b[38;5;241m=\u001b[39m [(re\u001b[38;5;241m.\u001b[39mcompile(x, re\u001b[38;5;241m.\u001b[39mIGNORECASE), y) \u001b[38;5;28;01mfor\u001b[39;00m (x, y) \u001b[38;5;129;01min\u001b[39;00m pairs]\n",
      "\u001b[0;31mNameError\u001b[0m: name 'self' is not defined"
     ]
    }
   ],
   "source": [
    "self._pairs = [(re.compile(x, re.IGNORECASE), y) for (x, y) in pairs]"
   ]
  },
  {
   "cell_type": "code",
   "execution_count": 5,
   "metadata": {},
   "outputs": [],
   "source": [
    "pairs = (\n",
    "    (\n",
    "        r\"M[ea]nga (.*) dasturlash nima ?\",\n",
    "        (\n",
    "            \"%1? Bu savolni ko'pchilik beradi! Dasturlash - bu kompyuterlarga muayyan vazifalarni bajarish uchun buyruqlar beradigan til va vositalarni o'z ichiga oladi.\",\n",
    "            \"Dasturlash orqali %1 kabi muammolarni hal qilishingiz mumkin.\",\n",
    "            \"Siz %1 haqida ko'proq bilmoqchimisiz? Dasturlash sizga yordam beradi!\",\n",
    "        ),\n",
    "    ),\n",
    "    (\n",
    "        r\"(.*) nima uchun Python ishlatiladi?\",\n",
    "        (\n",
    "            \"Python %1 juda ko'p sohalarda ishlatiladi: veb-dasturlash, sun'iy intellekt, avtomatlashtirish, va yana ko'p boshqa sohalar.\",\n",
    "            \"%1 uchun Pythonning oddiyligi va kuchli kutubxonalari juda muhim.\",\n",
    "            \"%1 bilan ishlashda Pythonning keng imkoniyatlari mavjud.\",\n",
    "        ),\n",
    "    ),\n",
    "    (\n",
    "        r\"Java va (.*) o'rtasidagi farq nima?\",\n",
    "        (\n",
    "            \"Java va %1 bir xil emas, Java umumiy dasturlash uchun, %1 esa asosan veb-ishlab chiqishda qo'llaniladi.\",\n",
    "            \"Java va %1 o'rtasidagi asosiy farq ularning ishlash sohasida: biri umumiy maqsadlarda, biri esa veb uchun.\",\n",
    "            \"Sizga Java va %1 o'rtasidagi texnik farqlarni batafsil tushuntirib bera olaman.\",\n",
    "        ),\n",
    "    ),\n",
    "    (\n",
    "        r\"(.*) uchun mashina o'rganishi nima?\",\n",
    "        (\n",
    "            \"Mashina o'rganishi - bu tizimlar %1 orqali o'z tajribasidan o'rganishga va mustaqil qaror qabul qilishga imkon beruvchi texnologiya.\",\n",
    "            \"%1 bilan ishlashda mashina o'rganishining asosiy maqsadi - natijalarni yaxshilash va avtomatlashtirish.\",\n",
    "            \"Mashina o'rganishi %1 sohasida foydali bo'lishi mumkin, chunki u ma'lumotlarni tahlil qilib, xulosalar chiqarishga yordam beradi.\",\n",
    "        ),\n",
    "    ),\n",
    "    (\n",
    "        r\"AI nima (.*)\",\n",
    "        (\n",
    "            \"AI, ya'ni sun'iy intellekt, %1 kompyuter tizimlariga insoniy fikrlash va qaror qabul qilish qobiliyatini o'rgatish uchun ishlatiladigan texnologiyadir.\",\n",
    "            \"%1 bo'yicha AI ko'plab sohalarda inqilob qilmoqda, masalan, avtomatlashtirilgan tizimlar va aqlli yordamchilar.\",\n",
    "            \"AI %1 ichida, insoniy mantiq va qarorlar qabul qilish jarayonlarini taqlid qiladi.\",\n",
    "        ),\n",
    "    ),\n",
    "    (\n",
    "        r\"isming (.*)\",\n",
    "        (\n",
    "            \"Salom, mening ismim Zulfiqor!\",\n",
    "            \"Ismim Zulfiqor, dasturlash va sun'iy intellekt haqida gaplashamizmi?\",\n",
    "            \"Men Zulfiqorman va sizga yordam berish uchun bu yerdaman!\",\n",
    "        ),\n",
    "    ),\n",
    ")\n",
    "\n"
   ]
  },
  {
   "cell_type": "code",
   "execution_count": 6,
   "metadata": {},
   "outputs": [
    {
     "name": "stdout",
     "output_type": "stream",
     "text": [
      "M[ea]nga (.*) dasturlash nima ?\n",
      "(\"%1? Bu savolni ko'pchilik beradi! Dasturlash - bu kompyuterlarga muayyan vazifalarni bajarish uchun buyruqlar beradigan til va vositalarni o'z ichiga oladi.\", 'Dasturlash orqali %1 kabi muammolarni hal qilishingiz mumkin.', \"Siz %1 haqida ko'proq bilmoqchimisiz? Dasturlash sizga yordam beradi!\")\n",
      "\n",
      "(.*) nima uchun Python ishlatiladi?\n",
      "(\"Python %1 juda ko'p sohalarda ishlatiladi: veb-dasturlash, sun'iy intellekt, avtomatlashtirish, va yana ko'p boshqa sohalar.\", '%1 uchun Pythonning oddiyligi va kuchli kutubxonalari juda muhim.', '%1 bilan ishlashda Pythonning keng imkoniyatlari mavjud.')\n",
      "\n",
      "Java va (.*) o'rtasidagi farq nima?\n",
      "(\"Java va %1 bir xil emas, Java umumiy dasturlash uchun, %1 esa asosan veb-ishlab chiqishda qo'llaniladi.\", \"Java va %1 o'rtasidagi asosiy farq ularning ishlash sohasida: biri umumiy maqsadlarda, biri esa veb uchun.\", \"Sizga Java va %1 o'rtasidagi texnik farqlarni batafsil tushuntirib bera olaman.\")\n",
      "\n",
      "(.*) uchun mashina o'rganishi nima?\n",
      "(\"Mashina o'rganishi - bu tizimlar %1 orqali o'z tajribasidan o'rganishga va mustaqil qaror qabul qilishga imkon beruvchi texnologiya.\", \"%1 bilan ishlashda mashina o'rganishining asosiy maqsadi - natijalarni yaxshilash va avtomatlashtirish.\", \"Mashina o'rganishi %1 sohasida foydali bo'lishi mumkin, chunki u ma'lumotlarni tahlil qilib, xulosalar chiqarishga yordam beradi.\")\n",
      "\n",
      "AI nima (.*)\n",
      "(\"AI, ya'ni sun'iy intellekt, %1 kompyuter tizimlariga insoniy fikrlash va qaror qabul qilish qobiliyatini o'rgatish uchun ishlatiladigan texnologiyadir.\", \"%1 bo'yicha AI ko'plab sohalarda inqilob qilmoqda, masalan, avtomatlashtirilgan tizimlar va aqlli yordamchilar.\", 'AI %1 ichida, insoniy mantiq va qarorlar qabul qilish jarayonlarini taqlid qiladi.')\n",
      "\n",
      "isming (.*)\n",
      "('Salom, mening ismim Zulfiqor!', \"Ismim Zulfiqor, dasturlash va sun'iy intellekt haqida gaplashamizmi?\", 'Men Zulfiqorman va sizga yordam berish uchun bu yerdaman!')\n",
      "\n"
     ]
    }
   ],
   "source": [
    "for (x, y) in pairs:\n",
    "    print(x)\n",
    "    print(y)\n",
    "    print(\"\")"
   ]
  },
  {
   "cell_type": "code",
   "execution_count": 7,
   "metadata": {},
   "outputs": [],
   "source": [
    "_pairs = [(re.compile(x, re.IGNORECASE), y) for (x, y) in pairs]"
   ]
  },
  {
   "cell_type": "code",
   "execution_count": 8,
   "metadata": {},
   "outputs": [
    {
     "data": {
      "text/plain": [
       "[(re.compile(r'M[ea]nga (.*) dasturlash nima ?', re.IGNORECASE|re.UNICODE),\n",
       "  (\"%1? Bu savolni ko'pchilik beradi! Dasturlash - bu kompyuterlarga muayyan vazifalarni bajarish uchun buyruqlar beradigan til va vositalarni o'z ichiga oladi.\",\n",
       "   'Dasturlash orqali %1 kabi muammolarni hal qilishingiz mumkin.',\n",
       "   \"Siz %1 haqida ko'proq bilmoqchimisiz? Dasturlash sizga yordam beradi!\")),\n",
       " (re.compile(r'(.*) nima uchun Python ishlatiladi?', re.IGNORECASE|re.UNICODE),\n",
       "  (\"Python %1 juda ko'p sohalarda ishlatiladi: veb-dasturlash, sun'iy intellekt, avtomatlashtirish, va yana ko'p boshqa sohalar.\",\n",
       "   '%1 uchun Pythonning oddiyligi va kuchli kutubxonalari juda muhim.',\n",
       "   '%1 bilan ishlashda Pythonning keng imkoniyatlari mavjud.')),\n",
       " (re.compile(r\"Java va (.*) o'rtasidagi farq nima?\", re.IGNORECASE|re.UNICODE),\n",
       "  (\"Java va %1 bir xil emas, Java umumiy dasturlash uchun, %1 esa asosan veb-ishlab chiqishda qo'llaniladi.\",\n",
       "   \"Java va %1 o'rtasidagi asosiy farq ularning ishlash sohasida: biri umumiy maqsadlarda, biri esa veb uchun.\",\n",
       "   \"Sizga Java va %1 o'rtasidagi texnik farqlarni batafsil tushuntirib bera olaman.\")),\n",
       " (re.compile(r\"(.*) uchun mashina o'rganishi nima?\", re.IGNORECASE|re.UNICODE),\n",
       "  (\"Mashina o'rganishi - bu tizimlar %1 orqali o'z tajribasidan o'rganishga va mustaqil qaror qabul qilishga imkon beruvchi texnologiya.\",\n",
       "   \"%1 bilan ishlashda mashina o'rganishining asosiy maqsadi - natijalarni yaxshilash va avtomatlashtirish.\",\n",
       "   \"Mashina o'rganishi %1 sohasida foydali bo'lishi mumkin, chunki u ma'lumotlarni tahlil qilib, xulosalar chiqarishga yordam beradi.\")),\n",
       " (re.compile(r'AI nima (.*)', re.IGNORECASE|re.UNICODE),\n",
       "  (\"AI, ya'ni sun'iy intellekt, %1 kompyuter tizimlariga insoniy fikrlash va qaror qabul qilish qobiliyatini o'rgatish uchun ishlatiladigan texnologiyadir.\",\n",
       "   \"%1 bo'yicha AI ko'plab sohalarda inqilob qilmoqda, masalan, avtomatlashtirilgan tizimlar va aqlli yordamchilar.\",\n",
       "   'AI %1 ichida, insoniy mantiq va qarorlar qabul qilish jarayonlarini taqlid qiladi.')),\n",
       " (re.compile(r'isming (.*)', re.IGNORECASE|re.UNICODE),\n",
       "  ('Salom, mening ismim Zulfiqor!',\n",
       "   \"Ismim Zulfiqor, dasturlash va sun'iy intellekt haqida gaplashamizmi?\",\n",
       "   'Men Zulfiqorman va sizga yordam berish uchun bu yerdaman!'))]"
      ]
     },
     "execution_count": 8,
     "metadata": {},
     "output_type": "execute_result"
    }
   ],
   "source": [
    "_pairs"
   ]
  },
  {
   "cell_type": "code",
   "execution_count": 11,
   "metadata": {},
   "outputs": [],
   "source": [
    "text = \"Hello bobt & jon in pc\""
   ]
  },
  {
   "cell_type": "code",
   "execution_count": 12,
   "metadata": {},
   "outputs": [
    {
     "data": {
      "text/plain": [
       "<re.Match object; span=(12, 17), match=' jon '>"
      ]
     },
     "execution_count": 12,
     "metadata": {},
     "output_type": "execute_result"
    }
   ],
   "source": [
    "re.search(r'( ... )', text)"
   ]
  },
  {
   "cell_type": "code",
   "execution_count": 13,
   "metadata": {},
   "outputs": [],
   "source": [
    "text_2 = \"Hello, wow what was that ?\""
   ]
  },
  {
   "cell_type": "code",
   "execution_count": 14,
   "metadata": {},
   "outputs": [
    {
     "data": {
      "text/plain": [
       "<re.Match object; span=(6, 11), match=' wow '>"
      ]
     },
     "execution_count": 14,
     "metadata": {},
     "output_type": "execute_result"
    }
   ],
   "source": [
    "re.search(r'( ... )', text_2)"
   ]
  },
  {
   "cell_type": "code",
   "execution_count": 15,
   "metadata": {},
   "outputs": [],
   "source": [
    "three_char = re.compile(r'( ... )')"
   ]
  },
  {
   "cell_type": "code",
   "execution_count": 16,
   "metadata": {},
   "outputs": [
    {
     "data": {
      "text/plain": [
       "<re.Match object; span=(6, 11), match=' wow '>"
      ]
     },
     "execution_count": 16,
     "metadata": {},
     "output_type": "execute_result"
    }
   ],
   "source": [
    "three_char.search(text_2)"
   ]
  },
  {
   "cell_type": "code",
   "execution_count": null,
   "metadata": {},
   "outputs": [],
   "source": []
  }
 ],
 "metadata": {
  "kernelspec": {
   "display_name": "Python 3",
   "language": "python",
   "name": "python3"
  },
  "language_info": {
   "codemirror_mode": {
    "name": "ipython",
    "version": 3
   },
   "file_extension": ".py",
   "mimetype": "text/x-python",
   "name": "python",
   "nbconvert_exporter": "python",
   "pygments_lexer": "ipython3",
   "version": "3.10.12"
  }
 },
 "nbformat": 4,
 "nbformat_minor": 2
}
